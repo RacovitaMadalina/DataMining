{
 "cells": [
  {
   "cell_type": "markdown",
   "metadata": {
    "ExecuteTime": {
     "end_time": "2020-02-18T12:46:47.426471Z",
     "start_time": "2020-02-18T12:46:47.420510Z"
    }
   },
   "source": [
    "# Using Data Mining Techniques into Real Estates Industry"
   ]
  },
  {
   "cell_type": "markdown",
   "metadata": {},
   "source": [
    "**Author**:  _Madalina-Alina Racovita, 1st year master's student on **Computational Optimization at Faculty of Computer Science**, UAIC, Iasi, Romania_"
   ]
  },
  {
   "cell_type": "markdown",
   "metadata": {
    "toc": true
   },
   "source": [
    "<h1>Projection Pursuit<span class=\"tocSkip\"></span></h1>\n",
    "<div class=\"toc\"><ul class=\"toc-item\"><li><span><a href=\"#Using-Data-Mining-Techniques-into-Real-Estates-Industry\" data-toc-modified-id=\"Using-Data-Mining-Techniques-into-Real-Estates-Industry-1\">Using Data Mining Techniques into Real Estates Industry</a></span><ul class=\"toc-item\"><li><span><a href=\"#Import-dependencies\" data-toc-modified-id=\"Import-dependencies-1.1\">Import dependencies</a></span></li><li><span><a href=\"#Read-the-processed-data\" data-toc-modified-id=\"Read-the-processed-data-1.2\">Read the processed data</a></span></li></ul></li></ul></div>"
   ]
  },
  {
   "cell_type": "markdown",
   "metadata": {},
   "source": [
    "## Import dependencies"
   ]
  },
  {
   "cell_type": "code",
   "execution_count": 10,
   "metadata": {
    "ExecuteTime": {
     "end_time": "2020-02-29T20:33:48.924279Z",
     "start_time": "2020-02-29T20:33:48.850Z"
    }
   },
   "outputs": [],
   "source": [
    "library(tourr)"
   ]
  },
  {
   "cell_type": "markdown",
   "metadata": {},
   "source": [
    "## Read the processed data"
   ]
  },
  {
   "cell_type": "code",
   "execution_count": 24,
   "metadata": {
    "ExecuteTime": {
     "end_time": "2020-03-01T08:29:54.753497Z",
     "start_time": "2020-03-01T08:29:54.703Z"
    }
   },
   "outputs": [],
   "source": [
    "features=c('CountyFipsCode','BuildingCode','StructureNbr','LandSqft','LivingSqft','GarageSqft','BasementSqft','BasementFinishedSqft','Bedrooms','TotalBaths','FirePlaces','YearBuilt','ConditionCode','QualityCode','HasPatioPorch','PatioPorchCode','HasPool','LandValue','ImprovementValue','TotalValue','AssessedYear','PropTaxAmount','Zip','Latitude','Longitude','ConstructionCode','Stories','UnitsInBuilding','FoundationCode','ExteriorCode','CoolingCode','HeatingSourceCode','IsWaterfront','View','ViewScore','LastSalePrice','ArmsLengthFlag','OwnerOccupied','DistrsdProp','isRCON','SellDate_Year','SellDate_Month','SellDate_Day','SellPricePerLivingSqft')"
   ]
  },
  {
   "cell_type": "code",
   "execution_count": 25,
   "metadata": {
    "ExecuteTime": {
     "end_time": "2020-03-01T08:30:08.235660Z",
     "start_time": "2020-03-01T08:30:04.623Z"
    }
   },
   "outputs": [
    {
     "data": {
      "text/html": [
       "<table>\n",
       "<thead><tr><th scope=col>X</th><th scope=col>CountyFipsCode</th><th scope=col>BuildingCode</th><th scope=col>StructureNbr</th><th scope=col>LandSqft</th><th scope=col>LivingSqft</th><th scope=col>GarageSqft</th><th scope=col>BasementSqft</th><th scope=col>BasementFinishedSqft</th><th scope=col>Bedrooms</th><th scope=col>...</th><th scope=col>DistressCode</th><th scope=col>StatusDate</th><th scope=col>SellPrice</th><th scope=col>OwnerOccupied</th><th scope=col>DistrsdProp</th><th scope=col>isRCON</th><th scope=col>SellDate_Year</th><th scope=col>SellDate_Month</th><th scope=col>SellDate_Day</th><th scope=col>SellPricePerLivingSqft</th></tr></thead>\n",
       "<tbody>\n",
       "\t<tr><td>0         </td><td>12011     </td><td>0         </td><td>1         </td><td>3999      </td><td>1180      </td><td>0         </td><td>0         </td><td>0         </td><td>2         </td><td>...       </td><td>          </td><td>2017-02-10</td><td> 40000    </td><td>0         </td><td>0         </td><td>1         </td><td>1998      </td><td> 3        </td><td>27        </td><td> 33.89831 </td></tr>\n",
       "\t<tr><td>1         </td><td>12011     </td><td>0         </td><td>1         </td><td>3999      </td><td> 800      </td><td>0         </td><td>0         </td><td>0         </td><td>1         </td><td>...       </td><td>          </td><td>2017-02-10</td><td>100000    </td><td>0         </td><td>0         </td><td>1         </td><td>2006      </td><td>10        </td><td> 6        </td><td>125.00000 </td></tr>\n",
       "\t<tr><td>2         </td><td>12011     </td><td>0         </td><td>1         </td><td>3999      </td><td> 825      </td><td>0         </td><td>0         </td><td>0         </td><td>2         </td><td>...       </td><td>          </td><td>2017-02-10</td><td> 78000    </td><td>1         </td><td>0         </td><td>1         </td><td>2003      </td><td>12        </td><td> 5        </td><td> 94.54545 </td></tr>\n",
       "\t<tr><td>3         </td><td>12011     </td><td>0         </td><td>1         </td><td>3999      </td><td> 750      </td><td>0         </td><td>0         </td><td>0         </td><td>1         </td><td>...       </td><td>          </td><td>2017-02-10</td><td>111500    </td><td>1         </td><td>0         </td><td>1         </td><td>2006      </td><td>11        </td><td>28        </td><td>148.66667 </td></tr>\n",
       "\t<tr><td>4         </td><td>12011     </td><td>0         </td><td>1         </td><td>3999      </td><td>1250      </td><td>0         </td><td>0         </td><td>0         </td><td>2         </td><td>...       </td><td>S         </td><td>2017-02-10</td><td> 85500    </td><td>1         </td><td>3         </td><td>1         </td><td>2009      </td><td> 3        </td><td> 4        </td><td> 68.40000 </td></tr>\n",
       "\t<tr><td>5         </td><td>12011     </td><td>0         </td><td>1         </td><td>3999      </td><td> 700      </td><td>0         </td><td>0         </td><td>0         </td><td>1         </td><td>...       </td><td>          </td><td>2017-02-10</td><td> 25000    </td><td>0         </td><td>0         </td><td>1         </td><td>1995      </td><td>12        </td><td>20        </td><td> 35.71429 </td></tr>\n",
       "</tbody>\n",
       "</table>\n"
      ],
      "text/latex": [
       "\\begin{tabular}{r|llllllllllllllllllllllllllllllllllllllllllllllllllllllllll}\n",
       " X & CountyFipsCode & BuildingCode & StructureNbr & LandSqft & LivingSqft & GarageSqft & BasementSqft & BasementFinishedSqft & Bedrooms & ... & DistressCode & StatusDate & SellPrice & OwnerOccupied & DistrsdProp & isRCON & SellDate\\_Year & SellDate\\_Month & SellDate\\_Day & SellPricePerLivingSqft\\\\\n",
       "\\hline\n",
       "\t 0          & 12011      & 0          & 1          & 3999       & 1180       & 0          & 0          & 0          & 2          & ...        &            & 2017-02-10 &  40000     & 0          & 0          & 1          & 1998       &  3         & 27         &  33.89831 \\\\\n",
       "\t 1          & 12011      & 0          & 1          & 3999       &  800       & 0          & 0          & 0          & 1          & ...        &            & 2017-02-10 & 100000     & 0          & 0          & 1          & 2006       & 10         &  6         & 125.00000 \\\\\n",
       "\t 2          & 12011      & 0          & 1          & 3999       &  825       & 0          & 0          & 0          & 2          & ...        &            & 2017-02-10 &  78000     & 1          & 0          & 1          & 2003       & 12         &  5         &  94.54545 \\\\\n",
       "\t 3          & 12011      & 0          & 1          & 3999       &  750       & 0          & 0          & 0          & 1          & ...        &            & 2017-02-10 & 111500     & 1          & 0          & 1          & 2006       & 11         & 28         & 148.66667 \\\\\n",
       "\t 4          & 12011      & 0          & 1          & 3999       & 1250       & 0          & 0          & 0          & 2          & ...        & S          & 2017-02-10 &  85500     & 1          & 3          & 1          & 2009       &  3         &  4         &  68.40000 \\\\\n",
       "\t 5          & 12011      & 0          & 1          & 3999       &  700       & 0          & 0          & 0          & 1          & ...        &            & 2017-02-10 &  25000     & 0          & 0          & 1          & 1995       & 12         & 20         &  35.71429 \\\\\n",
       "\\end{tabular}\n"
      ],
      "text/markdown": [
       "\n",
       "| X | CountyFipsCode | BuildingCode | StructureNbr | LandSqft | LivingSqft | GarageSqft | BasementSqft | BasementFinishedSqft | Bedrooms | ... | DistressCode | StatusDate | SellPrice | OwnerOccupied | DistrsdProp | isRCON | SellDate_Year | SellDate_Month | SellDate_Day | SellPricePerLivingSqft |\n",
       "|---|---|---|---|---|---|---|---|---|---|---|---|---|---|---|---|---|---|---|---|---|\n",
       "| 0          | 12011      | 0          | 1          | 3999       | 1180       | 0          | 0          | 0          | 2          | ...        |            | 2017-02-10 |  40000     | 0          | 0          | 1          | 1998       |  3         | 27         |  33.89831  |\n",
       "| 1          | 12011      | 0          | 1          | 3999       |  800       | 0          | 0          | 0          | 1          | ...        |            | 2017-02-10 | 100000     | 0          | 0          | 1          | 2006       | 10         |  6         | 125.00000  |\n",
       "| 2          | 12011      | 0          | 1          | 3999       |  825       | 0          | 0          | 0          | 2          | ...        |            | 2017-02-10 |  78000     | 1          | 0          | 1          | 2003       | 12         |  5         |  94.54545  |\n",
       "| 3          | 12011      | 0          | 1          | 3999       |  750       | 0          | 0          | 0          | 1          | ...        |            | 2017-02-10 | 111500     | 1          | 0          | 1          | 2006       | 11         | 28         | 148.66667  |\n",
       "| 4          | 12011      | 0          | 1          | 3999       | 1250       | 0          | 0          | 0          | 2          | ...        | S          | 2017-02-10 |  85500     | 1          | 3          | 1          | 2009       |  3         |  4         |  68.40000  |\n",
       "| 5          | 12011      | 0          | 1          | 3999       |  700       | 0          | 0          | 0          | 1          | ...        |            | 2017-02-10 |  25000     | 0          | 0          | 1          | 1995       | 12         | 20         |  35.71429  |\n",
       "\n"
      ],
      "text/plain": [
       "  X CountyFipsCode BuildingCode StructureNbr LandSqft LivingSqft GarageSqft\n",
       "1 0 12011          0            1            3999     1180       0         \n",
       "2 1 12011          0            1            3999      800       0         \n",
       "3 2 12011          0            1            3999      825       0         \n",
       "4 3 12011          0            1            3999      750       0         \n",
       "5 4 12011          0            1            3999     1250       0         \n",
       "6 5 12011          0            1            3999      700       0         \n",
       "  BasementSqft BasementFinishedSqft Bedrooms ... DistressCode StatusDate\n",
       "1 0            0                    2        ...              2017-02-10\n",
       "2 0            0                    1        ...              2017-02-10\n",
       "3 0            0                    2        ...              2017-02-10\n",
       "4 0            0                    1        ...              2017-02-10\n",
       "5 0            0                    2        ... S            2017-02-10\n",
       "6 0            0                    1        ...              2017-02-10\n",
       "  SellPrice OwnerOccupied DistrsdProp isRCON SellDate_Year SellDate_Month\n",
       "1  40000    0             0           1      1998           3            \n",
       "2 100000    0             0           1      2006          10            \n",
       "3  78000    1             0           1      2003          12            \n",
       "4 111500    1             0           1      2006          11            \n",
       "5  85500    1             3           1      2009           3            \n",
       "6  25000    0             0           1      1995          12            \n",
       "  SellDate_Day SellPricePerLivingSqft\n",
       "1 27            33.89831             \n",
       "2  6           125.00000             \n",
       "3  5            94.54545             \n",
       "4 28           148.66667             \n",
       "5  4            68.40000             \n",
       "6 20            35.71429             "
      ]
     },
     "metadata": {},
     "output_type": "display_data"
    }
   ],
   "source": [
    "df = read.csv('./processed_df.csv', sep = ',', stringsAsFactors = TRUE)\n",
    "head(df)"
   ]
  },
  {
   "cell_type": "code",
   "execution_count": 26,
   "metadata": {
    "ExecuteTime": {
     "end_time": "2020-03-01T08:30:20.242739Z",
     "start_time": "2020-03-01T08:30:20.199Z"
    }
   },
   "outputs": [],
   "source": [
    "df = df[, features]"
   ]
  },
  {
   "cell_type": "code",
   "execution_count": 30,
   "metadata": {
    "ExecuteTime": {
     "end_time": "2020-03-01T08:32:25.620387Z",
     "start_time": "2020-03-01T08:31:40.395Z"
    },
    "scrolled": false
   },
   "outputs": [
    {
     "name": "stdout",
     "output_type": "stream",
     "text": [
      "Value 0.932 6.5% better (0.781 away) - NEW BASIS\n"
     ]
    },
    {
     "name": "stderr",
     "output_type": "stream",
     "text": [
      "Using half_range 1.1\n"
     ]
    },
    {
     "data": {
      "image/png": "[encoded data removed]",
      "text/plain": [
       "plot without title"
      ]
     },
     "metadata": {},
     "output_type": "display_data"
    },
    {
     "data": {
      "image/png": "[encoded data removed]",
      "text/plain": [
       "plot without title"
      ]
     },
     "metadata": {},
     "output_type": "display_data"
    }
   ],
   "source": [
    "animate(data=df[, c('LivingSqft', 'Bedrooms', 'ViewScore', 'SellPricePerLivingSqft')], guided_tour(cmass(),d=2), display=display_xy())"
   ]
  }
 ],
 "metadata": {
  "kernelspec": {
   "display_name": "R",
   "language": "R",
   "name": "ir"
  },
  "language_info": {
   "codemirror_mode": "r",
   "file_extension": ".r",
   "mimetype": "text/x-r-source",
   "name": "R",
   "pygments_lexer": "r",
   "version": "3.6.1"
  },
  "toc": {
   "base_numbering": 1,
   "nav_menu": {},
   "number_sections": false,
   "sideBar": true,
   "skip_h1_title": false,
   "title_cell": "Projection Pursuit",
   "title_sidebar": "Contents",
   "toc_cell": true,
   "toc_position": {},
   "toc_section_display": true,
   "toc_window_display": false
  }
 },
 "nbformat": 4,
 "nbformat_minor": 2
}
