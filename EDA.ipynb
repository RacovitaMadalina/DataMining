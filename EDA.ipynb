{
 "cells": [
  {
   "cell_type": "markdown",
   "metadata": {
    "ExecuteTime": {
     "end_time": "2020-02-18T07:24:32.072279Z",
     "start_time": "2020-02-18T07:24:32.067324Z"
    }
   },
   "source": [
    "## Exploratory Data Analysis"
   ]
  },
  {
   "cell_type": "code",
   "execution_count": 10,
   "metadata": {
    "ExecuteTime": {
     "end_time": "2020-02-18T07:00:42.419555Z",
     "start_time": "2020-02-18T07:00:40.674878Z"
    }
   },
   "outputs": [],
   "source": [
    "import pandas as pd\n",
    "from scipy.stats import skew"
   ]
  },
  {
   "cell_type": "code",
   "execution_count": null,
   "metadata": {},
   "outputs": [],
   "source": [
    "df = pd.read_csv(\"RCON_12011.assessor.tsv\", sep = \"\\t\")"
   ]
  },
  {
   "cell_type": "code",
   "execution_count": 6,
   "metadata": {
    "ExecuteTime": {
     "end_time": "2020-02-18T06:59:00.385783Z",
     "start_time": "2020-02-18T06:59:00.334736Z"
    }
   },
   "outputs": [
    {
     "data": {
      "text/html": [
       "<div>\n",
       "<style scoped>\n",
       "    .dataframe tbody tr th:only-of-type {\n",
       "        vertical-align: middle;\n",
       "    }\n",
       "\n",
       "    .dataframe tbody tr th {\n",
       "        vertical-align: top;\n",
       "    }\n",
       "\n",
       "    .dataframe thead th {\n",
       "        text-align: right;\n",
       "    }\n",
       "</style>\n",
       "<table border=\"1\" class=\"dataframe\">\n",
       "  <thead>\n",
       "    <tr style=\"text-align: right;\">\n",
       "      <th></th>\n",
       "      <th>CountyFipsCode</th>\n",
       "      <th>BuildingCode</th>\n",
       "      <th>StructureCode</th>\n",
       "      <th>StructureNbr</th>\n",
       "      <th>LandSqft</th>\n",
       "      <th>LivingSqft</th>\n",
       "      <th>GarageSqft</th>\n",
       "      <th>BasementSqft</th>\n",
       "      <th>BasementFinishedSqft</th>\n",
       "      <th>AtticSqft</th>\n",
       "      <th>...</th>\n",
       "      <th>DeedType</th>\n",
       "      <th>TransType</th>\n",
       "      <th>ArmsLengthFlag</th>\n",
       "      <th>DistressCode</th>\n",
       "      <th>StatusDate</th>\n",
       "      <th>SellDate</th>\n",
       "      <th>SellPrice</th>\n",
       "      <th>OwnerOccupied</th>\n",
       "      <th>DistrsdProp</th>\n",
       "      <th>IsFixer</th>\n",
       "    </tr>\n",
       "  </thead>\n",
       "  <tbody>\n",
       "    <tr>\n",
       "      <th>0</th>\n",
       "      <td>12011</td>\n",
       "      <td>NaN</td>\n",
       "      <td>NaN</td>\n",
       "      <td>1</td>\n",
       "      <td>3999</td>\n",
       "      <td>1180</td>\n",
       "      <td>0</td>\n",
       "      <td>0</td>\n",
       "      <td>0</td>\n",
       "      <td>0</td>\n",
       "      <td>...</td>\n",
       "      <td>NaN</td>\n",
       "      <td>R</td>\n",
       "      <td>True</td>\n",
       "      <td>NaN</td>\n",
       "      <td>2017-02-10 00:00:00</td>\n",
       "      <td>1998-03-27</td>\n",
       "      <td>40000.0</td>\n",
       "      <td>False</td>\n",
       "      <td>0</td>\n",
       "      <td>0.0</td>\n",
       "    </tr>\n",
       "    <tr>\n",
       "      <th>1</th>\n",
       "      <td>12011</td>\n",
       "      <td>NaN</td>\n",
       "      <td>NaN</td>\n",
       "      <td>1</td>\n",
       "      <td>3999</td>\n",
       "      <td>800</td>\n",
       "      <td>0</td>\n",
       "      <td>0</td>\n",
       "      <td>0</td>\n",
       "      <td>0</td>\n",
       "      <td>...</td>\n",
       "      <td>NaN</td>\n",
       "      <td>R</td>\n",
       "      <td>True</td>\n",
       "      <td>NaN</td>\n",
       "      <td>2017-02-10 00:00:00</td>\n",
       "      <td>2006-10-06</td>\n",
       "      <td>100000.0</td>\n",
       "      <td>False</td>\n",
       "      <td>0</td>\n",
       "      <td>0.0</td>\n",
       "    </tr>\n",
       "    <tr>\n",
       "      <th>2</th>\n",
       "      <td>12011</td>\n",
       "      <td>NaN</td>\n",
       "      <td>NaN</td>\n",
       "      <td>1</td>\n",
       "      <td>3999</td>\n",
       "      <td>825</td>\n",
       "      <td>0</td>\n",
       "      <td>0</td>\n",
       "      <td>0</td>\n",
       "      <td>0</td>\n",
       "      <td>...</td>\n",
       "      <td>NaN</td>\n",
       "      <td>R</td>\n",
       "      <td>True</td>\n",
       "      <td>NaN</td>\n",
       "      <td>2017-02-10 00:00:00</td>\n",
       "      <td>2003-12-05</td>\n",
       "      <td>78000.0</td>\n",
       "      <td>True</td>\n",
       "      <td>0</td>\n",
       "      <td>0.0</td>\n",
       "    </tr>\n",
       "    <tr>\n",
       "      <th>3</th>\n",
       "      <td>12011</td>\n",
       "      <td>NaN</td>\n",
       "      <td>NaN</td>\n",
       "      <td>1</td>\n",
       "      <td>3999</td>\n",
       "      <td>750</td>\n",
       "      <td>0</td>\n",
       "      <td>0</td>\n",
       "      <td>0</td>\n",
       "      <td>0</td>\n",
       "      <td>...</td>\n",
       "      <td>NaN</td>\n",
       "      <td>R</td>\n",
       "      <td>True</td>\n",
       "      <td>NaN</td>\n",
       "      <td>2017-02-10 00:00:00</td>\n",
       "      <td>2006-11-28</td>\n",
       "      <td>111500.0</td>\n",
       "      <td>True</td>\n",
       "      <td>0</td>\n",
       "      <td>0.0</td>\n",
       "    </tr>\n",
       "    <tr>\n",
       "      <th>4</th>\n",
       "      <td>12011</td>\n",
       "      <td>NaN</td>\n",
       "      <td>NaN</td>\n",
       "      <td>1</td>\n",
       "      <td>3999</td>\n",
       "      <td>1250</td>\n",
       "      <td>0</td>\n",
       "      <td>0</td>\n",
       "      <td>0</td>\n",
       "      <td>0</td>\n",
       "      <td>...</td>\n",
       "      <td>NaN</td>\n",
       "      <td>R</td>\n",
       "      <td>True</td>\n",
       "      <td>S</td>\n",
       "      <td>2017-02-10 00:00:00</td>\n",
       "      <td>2009-03-04</td>\n",
       "      <td>NaN</td>\n",
       "      <td>True</td>\n",
       "      <td>3</td>\n",
       "      <td>0.0</td>\n",
       "    </tr>\n",
       "  </tbody>\n",
       "</table>\n",
       "<p>5 rows × 63 columns</p>\n",
       "</div>"
      ],
      "text/plain": [
       "   CountyFipsCode  BuildingCode  StructureCode  StructureNbr  LandSqft  \\\n",
       "0           12011           NaN            NaN             1      3999   \n",
       "1           12011           NaN            NaN             1      3999   \n",
       "2           12011           NaN            NaN             1      3999   \n",
       "3           12011           NaN            NaN             1      3999   \n",
       "4           12011           NaN            NaN             1      3999   \n",
       "\n",
       "   LivingSqft  GarageSqft  BasementSqft  BasementFinishedSqft  AtticSqft  ...  \\\n",
       "0        1180           0             0                     0          0  ...   \n",
       "1         800           0             0                     0          0  ...   \n",
       "2         825           0             0                     0          0  ...   \n",
       "3         750           0             0                     0          0  ...   \n",
       "4        1250           0             0                     0          0  ...   \n",
       "\n",
       "   DeedType  TransType  ArmsLengthFlag  DistressCode           StatusDate  \\\n",
       "0       NaN          R            True           NaN  2017-02-10 00:00:00   \n",
       "1       NaN          R            True           NaN  2017-02-10 00:00:00   \n",
       "2       NaN          R            True           NaN  2017-02-10 00:00:00   \n",
       "3       NaN          R            True           NaN  2017-02-10 00:00:00   \n",
       "4       NaN          R            True             S  2017-02-10 00:00:00   \n",
       "\n",
       "     SellDate SellPrice  OwnerOccupied DistrsdProp  IsFixer  \n",
       "0  1998-03-27   40000.0          False           0      0.0  \n",
       "1  2006-10-06  100000.0          False           0      0.0  \n",
       "2  2003-12-05   78000.0           True           0      0.0  \n",
       "3  2006-11-28  111500.0           True           0      0.0  \n",
       "4  2009-03-04       NaN           True           3      0.0  \n",
       "\n",
       "[5 rows x 63 columns]"
      ]
     },
     "execution_count": 6,
     "metadata": {},
     "output_type": "execute_result"
    }
   ],
   "source": [
    "df.head()"
   ]
  },
  {
   "cell_type": "code",
   "execution_count": 9,
   "metadata": {
    "ExecuteTime": {
     "end_time": "2020-02-18T06:59:39.972293Z",
     "start_time": "2020-02-18T06:59:39.451032Z"
    }
   },
   "outputs": [
    {
     "data": {
      "text/html": [
       "<div>\n",
       "<style scoped>\n",
       "    .dataframe tbody tr th:only-of-type {\n",
       "        vertical-align: middle;\n",
       "    }\n",
       "\n",
       "    .dataframe tbody tr th {\n",
       "        vertical-align: top;\n",
       "    }\n",
       "\n",
       "    .dataframe thead th {\n",
       "        text-align: right;\n",
       "    }\n",
       "</style>\n",
       "<table border=\"1\" class=\"dataframe\">\n",
       "  <thead>\n",
       "    <tr style=\"text-align: right;\">\n",
       "      <th></th>\n",
       "      <th>CountyFipsCode</th>\n",
       "      <th>BuildingCode</th>\n",
       "      <th>StructureCode</th>\n",
       "      <th>StructureNbr</th>\n",
       "      <th>LandSqft</th>\n",
       "      <th>LivingSqft</th>\n",
       "      <th>GarageSqft</th>\n",
       "      <th>BasementSqft</th>\n",
       "      <th>BasementFinishedSqft</th>\n",
       "      <th>AtticSqft</th>\n",
       "      <th>...</th>\n",
       "      <th>CoolingCode</th>\n",
       "      <th>HeatingCode</th>\n",
       "      <th>HeatingSourceCode</th>\n",
       "      <th>View</th>\n",
       "      <th>ViewScore</th>\n",
       "      <th>LastSalePrice</th>\n",
       "      <th>DeedType</th>\n",
       "      <th>SellPrice</th>\n",
       "      <th>DistrsdProp</th>\n",
       "      <th>IsFixer</th>\n",
       "    </tr>\n",
       "  </thead>\n",
       "  <tbody>\n",
       "    <tr>\n",
       "      <th>count</th>\n",
       "      <td>21637.0</td>\n",
       "      <td>0.0</td>\n",
       "      <td>1.0</td>\n",
       "      <td>21637.000000</td>\n",
       "      <td>21637.000000</td>\n",
       "      <td>21637.000000</td>\n",
       "      <td>21637.0</td>\n",
       "      <td>21637.0</td>\n",
       "      <td>21637.0</td>\n",
       "      <td>21637.0</td>\n",
       "      <td>...</td>\n",
       "      <td>35.0</td>\n",
       "      <td>0.0</td>\n",
       "      <td>0.0</td>\n",
       "      <td>0.0</td>\n",
       "      <td>21637.000000</td>\n",
       "      <td>2.163700e+04</td>\n",
       "      <td>0.0</td>\n",
       "      <td>1.462500e+04</td>\n",
       "      <td>21637.000000</td>\n",
       "      <td>21637.0</td>\n",
       "    </tr>\n",
       "    <tr>\n",
       "      <th>mean</th>\n",
       "      <td>12011.0</td>\n",
       "      <td>NaN</td>\n",
       "      <td>-1.0</td>\n",
       "      <td>0.999954</td>\n",
       "      <td>4007.242039</td>\n",
       "      <td>1116.412395</td>\n",
       "      <td>0.0</td>\n",
       "      <td>0.0</td>\n",
       "      <td>0.0</td>\n",
       "      <td>0.0</td>\n",
       "      <td>...</td>\n",
       "      <td>12.0</td>\n",
       "      <td>NaN</td>\n",
       "      <td>NaN</td>\n",
       "      <td>NaN</td>\n",
       "      <td>0.123816</td>\n",
       "      <td>2.630240e+05</td>\n",
       "      <td>NaN</td>\n",
       "      <td>1.614590e+05</td>\n",
       "      <td>0.273605</td>\n",
       "      <td>0.0</td>\n",
       "    </tr>\n",
       "    <tr>\n",
       "      <th>std</th>\n",
       "      <td>0.0</td>\n",
       "      <td>NaN</td>\n",
       "      <td>NaN</td>\n",
       "      <td>0.017987</td>\n",
       "      <td>898.307538</td>\n",
       "      <td>2512.882351</td>\n",
       "      <td>0.0</td>\n",
       "      <td>0.0</td>\n",
       "      <td>0.0</td>\n",
       "      <td>0.0</td>\n",
       "      <td>...</td>\n",
       "      <td>0.0</td>\n",
       "      <td>NaN</td>\n",
       "      <td>NaN</td>\n",
       "      <td>NaN</td>\n",
       "      <td>0.513422</td>\n",
       "      <td>1.467128e+06</td>\n",
       "      <td>NaN</td>\n",
       "      <td>1.814235e+05</td>\n",
       "      <td>0.954218</td>\n",
       "      <td>0.0</td>\n",
       "    </tr>\n",
       "    <tr>\n",
       "      <th>min</th>\n",
       "      <td>12011.0</td>\n",
       "      <td>NaN</td>\n",
       "      <td>-1.0</td>\n",
       "      <td>0.000000</td>\n",
       "      <td>3999.000000</td>\n",
       "      <td>99.000000</td>\n",
       "      <td>0.0</td>\n",
       "      <td>0.0</td>\n",
       "      <td>0.0</td>\n",
       "      <td>0.0</td>\n",
       "      <td>...</td>\n",
       "      <td>12.0</td>\n",
       "      <td>NaN</td>\n",
       "      <td>NaN</td>\n",
       "      <td>NaN</td>\n",
       "      <td>0.000000</td>\n",
       "      <td>0.000000e+00</td>\n",
       "      <td>NaN</td>\n",
       "      <td>1.210000e+04</td>\n",
       "      <td>0.000000</td>\n",
       "      <td>0.0</td>\n",
       "    </tr>\n",
       "    <tr>\n",
       "      <th>25%</th>\n",
       "      <td>12011.0</td>\n",
       "      <td>NaN</td>\n",
       "      <td>-1.0</td>\n",
       "      <td>1.000000</td>\n",
       "      <td>3999.000000</td>\n",
       "      <td>850.000000</td>\n",
       "      <td>0.0</td>\n",
       "      <td>0.0</td>\n",
       "      <td>0.0</td>\n",
       "      <td>0.0</td>\n",
       "      <td>...</td>\n",
       "      <td>12.0</td>\n",
       "      <td>NaN</td>\n",
       "      <td>NaN</td>\n",
       "      <td>NaN</td>\n",
       "      <td>0.000000</td>\n",
       "      <td>4.700000e+04</td>\n",
       "      <td>NaN</td>\n",
       "      <td>6.500000e+04</td>\n",
       "      <td>0.000000</td>\n",
       "      <td>0.0</td>\n",
       "    </tr>\n",
       "    <tr>\n",
       "      <th>50%</th>\n",
       "      <td>12011.0</td>\n",
       "      <td>NaN</td>\n",
       "      <td>-1.0</td>\n",
       "      <td>1.000000</td>\n",
       "      <td>3999.000000</td>\n",
       "      <td>1040.000000</td>\n",
       "      <td>0.0</td>\n",
       "      <td>0.0</td>\n",
       "      <td>0.0</td>\n",
       "      <td>0.0</td>\n",
       "      <td>...</td>\n",
       "      <td>12.0</td>\n",
       "      <td>NaN</td>\n",
       "      <td>NaN</td>\n",
       "      <td>NaN</td>\n",
       "      <td>0.000000</td>\n",
       "      <td>8.500000e+04</td>\n",
       "      <td>NaN</td>\n",
       "      <td>1.150000e+05</td>\n",
       "      <td>0.000000</td>\n",
       "      <td>0.0</td>\n",
       "    </tr>\n",
       "    <tr>\n",
       "      <th>75%</th>\n",
       "      <td>12011.0</td>\n",
       "      <td>NaN</td>\n",
       "      <td>-1.0</td>\n",
       "      <td>1.000000</td>\n",
       "      <td>3999.000000</td>\n",
       "      <td>1260.000000</td>\n",
       "      <td>0.0</td>\n",
       "      <td>0.0</td>\n",
       "      <td>0.0</td>\n",
       "      <td>0.0</td>\n",
       "      <td>...</td>\n",
       "      <td>12.0</td>\n",
       "      <td>NaN</td>\n",
       "      <td>NaN</td>\n",
       "      <td>NaN</td>\n",
       "      <td>0.000000</td>\n",
       "      <td>1.676000e+05</td>\n",
       "      <td>NaN</td>\n",
       "      <td>1.950000e+05</td>\n",
       "      <td>0.000000</td>\n",
       "      <td>0.0</td>\n",
       "    </tr>\n",
       "    <tr>\n",
       "      <th>max</th>\n",
       "      <td>12011.0</td>\n",
       "      <td>NaN</td>\n",
       "      <td>-1.0</td>\n",
       "      <td>3.000000</td>\n",
       "      <td>134718.000000</td>\n",
       "      <td>366420.000000</td>\n",
       "      <td>0.0</td>\n",
       "      <td>0.0</td>\n",
       "      <td>0.0</td>\n",
       "      <td>0.0</td>\n",
       "      <td>...</td>\n",
       "      <td>12.0</td>\n",
       "      <td>NaN</td>\n",
       "      <td>NaN</td>\n",
       "      <td>NaN</td>\n",
       "      <td>3.000000</td>\n",
       "      <td>3.655000e+07</td>\n",
       "      <td>NaN</td>\n",
       "      <td>5.150000e+06</td>\n",
       "      <td>5.000000</td>\n",
       "      <td>0.0</td>\n",
       "    </tr>\n",
       "  </tbody>\n",
       "</table>\n",
       "<p>8 rows × 47 columns</p>\n",
       "</div>"
      ],
      "text/plain": [
       "       CountyFipsCode  BuildingCode  StructureCode  StructureNbr  \\\n",
       "count         21637.0           0.0            1.0  21637.000000   \n",
       "mean          12011.0           NaN           -1.0      0.999954   \n",
       "std               0.0           NaN            NaN      0.017987   \n",
       "min           12011.0           NaN           -1.0      0.000000   \n",
       "25%           12011.0           NaN           -1.0      1.000000   \n",
       "50%           12011.0           NaN           -1.0      1.000000   \n",
       "75%           12011.0           NaN           -1.0      1.000000   \n",
       "max           12011.0           NaN           -1.0      3.000000   \n",
       "\n",
       "            LandSqft     LivingSqft  GarageSqft  BasementSqft  \\\n",
       "count   21637.000000   21637.000000     21637.0       21637.0   \n",
       "mean     4007.242039    1116.412395         0.0           0.0   \n",
       "std       898.307538    2512.882351         0.0           0.0   \n",
       "min      3999.000000      99.000000         0.0           0.0   \n",
       "25%      3999.000000     850.000000         0.0           0.0   \n",
       "50%      3999.000000    1040.000000         0.0           0.0   \n",
       "75%      3999.000000    1260.000000         0.0           0.0   \n",
       "max    134718.000000  366420.000000         0.0           0.0   \n",
       "\n",
       "       BasementFinishedSqft  AtticSqft  ...  CoolingCode  HeatingCode  \\\n",
       "count               21637.0    21637.0  ...         35.0          0.0   \n",
       "mean                    0.0        0.0  ...         12.0          NaN   \n",
       "std                     0.0        0.0  ...          0.0          NaN   \n",
       "min                     0.0        0.0  ...         12.0          NaN   \n",
       "25%                     0.0        0.0  ...         12.0          NaN   \n",
       "50%                     0.0        0.0  ...         12.0          NaN   \n",
       "75%                     0.0        0.0  ...         12.0          NaN   \n",
       "max                     0.0        0.0  ...         12.0          NaN   \n",
       "\n",
       "       HeatingSourceCode  View     ViewScore  LastSalePrice  DeedType  \\\n",
       "count                0.0   0.0  21637.000000   2.163700e+04       0.0   \n",
       "mean                 NaN   NaN      0.123816   2.630240e+05       NaN   \n",
       "std                  NaN   NaN      0.513422   1.467128e+06       NaN   \n",
       "min                  NaN   NaN      0.000000   0.000000e+00       NaN   \n",
       "25%                  NaN   NaN      0.000000   4.700000e+04       NaN   \n",
       "50%                  NaN   NaN      0.000000   8.500000e+04       NaN   \n",
       "75%                  NaN   NaN      0.000000   1.676000e+05       NaN   \n",
       "max                  NaN   NaN      3.000000   3.655000e+07       NaN   \n",
       "\n",
       "          SellPrice   DistrsdProp  IsFixer  \n",
       "count  1.462500e+04  21637.000000  21637.0  \n",
       "mean   1.614590e+05      0.273605      0.0  \n",
       "std    1.814235e+05      0.954218      0.0  \n",
       "min    1.210000e+04      0.000000      0.0  \n",
       "25%    6.500000e+04      0.000000      0.0  \n",
       "50%    1.150000e+05      0.000000      0.0  \n",
       "75%    1.950000e+05      0.000000      0.0  \n",
       "max    5.150000e+06      5.000000      0.0  \n",
       "\n",
       "[8 rows x 47 columns]"
      ]
     },
     "execution_count": 9,
     "metadata": {},
     "output_type": "execute_result"
    }
   ],
   "source": [
    "df.describe()"
   ]
  },
  {
   "cell_type": "code",
   "execution_count": 12,
   "metadata": {
    "ExecuteTime": {
     "end_time": "2020-02-18T07:01:17.953326Z",
     "start_time": "2020-02-18T07:01:17.944352Z"
    }
   },
   "outputs": [
    {
     "data": {
      "text/plain": [
       "0.0"
      ]
     },
     "execution_count": 12,
     "metadata": {},
     "output_type": "execute_result"
    }
   ],
   "source": [
    "skew(df['CountyFipsCode'])"
   ]
  },
  {
   "cell_type": "code",
   "execution_count": 13,
   "metadata": {
    "ExecuteTime": {
     "end_time": "2020-02-18T07:01:32.345239Z",
     "start_time": "2020-02-18T07:01:32.334532Z"
    },
    "scrolled": true
   },
   "outputs": [
    {
     "data": {
      "text/plain": [
       "nan"
      ]
     },
     "execution_count": 13,
     "metadata": {},
     "output_type": "execute_result"
    }
   ],
   "source": [
    "skew(df['StructureCode'])"
   ]
  },
  {
   "cell_type": "code",
   "execution_count": 16,
   "metadata": {
    "ExecuteTime": {
     "end_time": "2020-02-18T07:02:14.850051Z",
     "start_time": "2020-02-18T07:02:14.840055Z"
    }
   },
   "outputs": [
    {
     "name": "stdout",
     "output_type": "stream",
     "text": [
      "CountyFipsCode      int64\n",
      "BuildingCode      float64\n",
      "StructureCode     float64\n",
      "StructureNbr        int64\n",
      "LandSqft            int64\n",
      "                   ...   \n",
      "SellDate           object\n",
      "SellPrice         float64\n",
      "OwnerOccupied        bool\n",
      "DistrsdProp         int64\n",
      "IsFixer           float64\n",
      "Length: 63, dtype: object\n"
     ]
    }
   ],
   "source": [
    "print(df.dtypes)"
   ]
  },
  {
   "cell_type": "code",
   "execution_count": 22,
   "metadata": {
    "ExecuteTime": {
     "end_time": "2020-02-18T07:05:19.584273Z",
     "start_time": "2020-02-18T07:05:19.557660Z"
    }
   },
   "outputs": [
    {
     "data": {
      "text/plain": [
       "Series([], Name: BuildingCode, dtype: float64)"
      ]
     },
     "execution_count": 22,
     "metadata": {},
     "output_type": "execute_result"
    }
   ],
   "source": [
    "df['BuildingCode'].value_counts(normalize=True)"
   ]
  },
  {
   "cell_type": "code",
   "execution_count": 24,
   "metadata": {
    "ExecuteTime": {
     "end_time": "2020-02-18T07:06:15.171276Z",
     "start_time": "2020-02-18T07:06:15.162277Z"
    }
   },
   "outputs": [],
   "source": [
    "del df['BuildingCode']"
   ]
  },
  {
   "cell_type": "code",
   "execution_count": 27,
   "metadata": {
    "ExecuteTime": {
     "end_time": "2020-02-18T07:09:42.659827Z",
     "start_time": "2020-02-18T07:09:42.626864Z"
    }
   },
   "outputs": [
    {
     "name": "stdout",
     "output_type": "stream",
     "text": [
      "-1.0\n"
     ]
    }
   ],
   "source": [
    "for obs in list(df['StructureCode']):\n",
    "    if not pd.isnull(obs):\n",
    "        print(obs)"
   ]
  },
  {
   "cell_type": "code",
   "execution_count": 28,
   "metadata": {
    "ExecuteTime": {
     "end_time": "2020-02-18T07:09:57.401366Z",
     "start_time": "2020-02-18T07:09:57.391503Z"
    }
   },
   "outputs": [],
   "source": [
    "del df['StructureCode']"
   ]
  }
 ],
 "metadata": {
  "kernelspec": {
   "display_name": "Python 3",
   "language": "python",
   "name": "python3"
  },
  "language_info": {
   "codemirror_mode": {
    "name": "ipython",
    "version": 3
   },
   "file_extension": ".py",
   "mimetype": "text/x-python",
   "name": "python",
   "nbconvert_exporter": "python",
   "pygments_lexer": "ipython3",
   "version": "3.6.8"
  },
  "toc": {
   "base_numbering": 1,
   "nav_menu": {},
   "number_sections": true,
   "sideBar": true,
   "skip_h1_title": false,
   "title_cell": "Table of Contents",
   "title_sidebar": "Contents",
   "toc_cell": false,
   "toc_position": {},
   "toc_section_display": true,
   "toc_window_display": false
  }
 },
 "nbformat": 4,
 "nbformat_minor": 4
}
