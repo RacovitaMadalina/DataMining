{
 "cells": [
  {
   "cell_type": "markdown",
   "metadata": {
    "ExecuteTime": {
     "end_time": "2020-02-18T12:46:47.426471Z",
     "start_time": "2020-02-18T12:46:47.420510Z"
    }
   },
   "source": [
    "# Using Data Mining Techniques into Real Estates Industry"
   ]
  },
  {
   "cell_type": "markdown",
   "metadata": {},
   "source": [
    "**Author**:  _Madalina-Alina Racovita, 1st year master's student on **Computational Optimization at Faculty of Computer Science**, UAIC, Iasi, Romania_"
   ]
  },
  {
   "cell_type": "markdown",
   "metadata": {
    "ExecuteTime": {
     "end_time": "2020-05-11T07:42:20.762070Z",
     "start_time": "2020-05-11T07:42:20.161074Z"
    }
   },
   "source": [
    "![title](./Images/iris_outlier_graph.png)"
   ]
  },
  {
   "cell_type": "markdown",
   "metadata": {
    "toc": true
   },
   "source": [
    "<h1>Task 6 - Outliers Detection<span class=\"tocSkip\"></span></h1>\n",
    "<div class=\"toc\"><ul class=\"toc-item\"><li><span><a href=\"#Import-dependencies-&amp;-environment-configuration\" data-toc-modified-id=\"Import-dependencies-&amp;-environment-configuration-1\">Import dependencies &amp; environment configuration</a></span></li><li><span><a href=\"#Load-dataframes\" data-toc-modified-id=\"Load-dataframes-2\">Load dataframes</a></span><ul class=\"toc-item\"><li><span><a href=\"#Labeled-dataframe\" data-toc-modified-id=\"Labeled-dataframe-2.1\">Labeled dataframe</a></span></li><li><span><a href=\"#Real-estates-dataframe\" data-toc-modified-id=\"Real-estates-dataframe-2.2\">Real estates dataframe</a></span></li></ul></li><li><span><a href=\"#Univariate-analysis:-mean-+/--k*sd,-1.5IQR-rule\" data-toc-modified-id=\"Univariate-analysis:-mean-+/--k*sd,-1.5IQR-rule-3\">Univariate analysis: mean +/- k*sd, 1.5IQR rule</a></span></li><li><span><a href=\"#Multivariate-analysis\" data-toc-modified-id=\"Multivariate-analysis-4\">Multivariate analysis</a></span><ul class=\"toc-item\"><li><span><a href=\"#Outlier-detection-using-Mahalanobis-distance\" data-toc-modified-id=\"Outlier-detection-using-Mahalanobis-distance-4.1\">Outlier detection using Mahalanobis distance</a></span></li><li><span><a href=\"#Local-outlier-factor\" data-toc-modified-id=\"Local-outlier-factor-4.2\">Local outlier factor</a></span></li><li><span><a href=\"#Projection-methods:-Stahel-Donoho-extensions-for-asymmetrical-distributions\" data-toc-modified-id=\"Projection-methods:-Stahel-Donoho-extensions-for-asymmetrical-distributions-4.3\">Projection methods: Stahel-Donoho extensions for asymmetrical distributions</a></span></li><li><span><a href=\"#Autoencoders\" data-toc-modified-id=\"Autoencoders-4.4\">Autoencoders</a></span></li><li><span><a href=\"#Outliers-detection-using-decession-trees\" data-toc-modified-id=\"Outliers-detection-using-decession-trees-4.5\">Outliers detection using decession trees</a></span></li></ul></li><li><span><a href=\"#References\" data-toc-modified-id=\"References-5\">References</a></span></li></ul></div>"
   ]
  },
  {
   "cell_type": "markdown",
   "metadata": {
    "ExecuteTime": {
     "end_time": "2020-02-18T07:24:32.072279Z",
     "start_time": "2020-02-18T07:24:32.067324Z"
    }
   },
   "source": [
    "## Import dependencies & environment configuration"
   ]
  },
  {
   "cell_type": "code",
   "execution_count": 1,
   "metadata": {
    "ExecuteTime": {
     "end_time": "2020-05-11T07:40:21.039111Z",
     "start_time": "2020-05-11T07:40:21.034551Z"
    }
   },
   "outputs": [],
   "source": [
    "# !pip install "
   ]
  },
  {
   "cell_type": "code",
   "execution_count": 14,
   "metadata": {
    "ExecuteTime": {
     "end_time": "2020-05-11T07:51:22.122050Z",
     "start_time": "2020-05-11T07:51:22.112082Z"
    }
   },
   "outputs": [],
   "source": [
    "import pandas as pd\n",
    "import os\n",
    "import matplotlib\n",
    "import matplotlib.pyplot as plt\n",
    "import warnings\n",
    "import seaborn as sns\n",
    "import numpy as np\n",
    "from scipy.io import loadmat\n",
    "\n",
    "warnings.filterwarnings('ignore')\n",
    "matplotlib.style.use('seaborn')\n",
    "\n",
    "pd.set_option('display.max_columns', None)\n",
    "pd.set_option('display.max_rows', None)\n",
    "pd.set_option('display.expand_frame_repr', False)\n",
    "pd.set_option('max_colwidth', -1)"
   ]
  },
  {
   "cell_type": "markdown",
   "metadata": {},
   "source": [
    "## Load dataframes"
   ]
  },
  {
   "cell_type": "code",
   "execution_count": 7,
   "metadata": {
    "ExecuteTime": {
     "end_time": "2020-05-11T07:46:09.963683Z",
     "start_time": "2020-05-11T07:46:09.952681Z"
    }
   },
   "outputs": [
    {
     "data": {
      "text/plain": [
       "['seismic-bumps.arff']"
      ]
     },
     "execution_count": 7,
     "metadata": {},
     "output_type": "execute_result"
    }
   ],
   "source": [
    "os.listdir('./Data')"
   ]
  },
  {
   "cell_type": "markdown",
   "metadata": {
    "ExecuteTime": {
     "end_time": "2020-05-11T07:44:49.828094Z",
     "start_time": "2020-05-11T07:44:49.824100Z"
    }
   },
   "source": [
    "### Labeled dataframe"
   ]
  },
  {
   "cell_type": "markdown",
   "metadata": {},
   "source": [
    "The original **Wine dataset from UCI machine learning repository** is a multiclass classification dataset having 13 attributes and 3 classes. These data are the results of a chemical analysis of wines grown in the same region in Italy but derived from three different cultivars. The analysis determined the quantities of 13 constituents found in each of the three types of wines. Class 2 and 3 are used as inliers and class 1 is downsampled to 10 instances to be used as ouliers."
   ]
  },
  {
   "cell_type": "code",
   "execution_count": 21,
   "metadata": {
    "ExecuteTime": {
     "end_time": "2020-05-11T07:54:06.398859Z",
     "start_time": "2020-05-11T07:54:06.386863Z"
    }
   },
   "outputs": [
    {
     "data": {
      "text/plain": [
       "13"
      ]
     },
     "execution_count": 21,
     "metadata": {},
     "output_type": "execute_result"
    }
   ],
   "source": [
    "data = loadmat('./Data/wine.mat')\n",
    "len(data['X'][0])"
   ]
  },
  {
   "cell_type": "code",
   "execution_count": 26,
   "metadata": {
    "ExecuteTime": {
     "end_time": "2020-05-11T07:57:44.943134Z",
     "start_time": "2020-05-11T07:57:44.894136Z"
    }
   },
   "outputs": [
    {
     "data": {
      "text/html": [
       "<div>\n",
       "<style scoped>\n",
       "    .dataframe tbody tr th:only-of-type {\n",
       "        vertical-align: middle;\n",
       "    }\n",
       "\n",
       "    .dataframe tbody tr th {\n",
       "        vertical-align: top;\n",
       "    }\n",
       "\n",
       "    .dataframe thead th {\n",
       "        text-align: right;\n",
       "    }\n",
       "</style>\n",
       "<table border=\"1\" class=\"dataframe\">\n",
       "  <thead>\n",
       "    <tr style=\"text-align: right;\">\n",
       "      <th></th>\n",
       "      <th>Feature0</th>\n",
       "      <th>Feature1</th>\n",
       "      <th>Feature2</th>\n",
       "      <th>Feature3</th>\n",
       "      <th>Feature4</th>\n",
       "      <th>Feature5</th>\n",
       "      <th>Feature6</th>\n",
       "      <th>Feature7</th>\n",
       "      <th>Feature8</th>\n",
       "      <th>Feature9</th>\n",
       "      <th>Feature10</th>\n",
       "      <th>Feature11</th>\n",
       "      <th>Feature12</th>\n",
       "      <th>Outlier</th>\n",
       "    </tr>\n",
       "  </thead>\n",
       "  <tbody>\n",
       "    <tr>\n",
       "      <th>0</th>\n",
       "      <td>13.29</td>\n",
       "      <td>1.97</td>\n",
       "      <td>2.68</td>\n",
       "      <td>16.8</td>\n",
       "      <td>102.0</td>\n",
       "      <td>3.00</td>\n",
       "      <td>3.23</td>\n",
       "      <td>0.31</td>\n",
       "      <td>1.66</td>\n",
       "      <td>6.00</td>\n",
       "      <td>1.07</td>\n",
       "      <td>2.84</td>\n",
       "      <td>1270.0</td>\n",
       "      <td>1</td>\n",
       "    </tr>\n",
       "    <tr>\n",
       "      <th>1</th>\n",
       "      <td>14.30</td>\n",
       "      <td>1.92</td>\n",
       "      <td>2.72</td>\n",
       "      <td>20.0</td>\n",
       "      <td>120.0</td>\n",
       "      <td>2.80</td>\n",
       "      <td>3.14</td>\n",
       "      <td>0.33</td>\n",
       "      <td>1.97</td>\n",
       "      <td>6.20</td>\n",
       "      <td>1.07</td>\n",
       "      <td>2.65</td>\n",
       "      <td>1280.0</td>\n",
       "      <td>1</td>\n",
       "    </tr>\n",
       "    <tr>\n",
       "      <th>2</th>\n",
       "      <td>13.68</td>\n",
       "      <td>1.83</td>\n",
       "      <td>2.36</td>\n",
       "      <td>17.2</td>\n",
       "      <td>104.0</td>\n",
       "      <td>2.42</td>\n",
       "      <td>2.69</td>\n",
       "      <td>0.42</td>\n",
       "      <td>1.97</td>\n",
       "      <td>3.84</td>\n",
       "      <td>1.23</td>\n",
       "      <td>2.87</td>\n",
       "      <td>990.0</td>\n",
       "      <td>1</td>\n",
       "    </tr>\n",
       "    <tr>\n",
       "      <th>3</th>\n",
       "      <td>14.06</td>\n",
       "      <td>2.15</td>\n",
       "      <td>2.61</td>\n",
       "      <td>17.6</td>\n",
       "      <td>121.0</td>\n",
       "      <td>2.60</td>\n",
       "      <td>2.51</td>\n",
       "      <td>0.31</td>\n",
       "      <td>1.25</td>\n",
       "      <td>5.05</td>\n",
       "      <td>1.06</td>\n",
       "      <td>3.58</td>\n",
       "      <td>1295.0</td>\n",
       "      <td>1</td>\n",
       "    </tr>\n",
       "    <tr>\n",
       "      <th>4</th>\n",
       "      <td>14.22</td>\n",
       "      <td>1.70</td>\n",
       "      <td>2.30</td>\n",
       "      <td>16.3</td>\n",
       "      <td>118.0</td>\n",
       "      <td>3.20</td>\n",
       "      <td>3.00</td>\n",
       "      <td>0.26</td>\n",
       "      <td>2.03</td>\n",
       "      <td>6.38</td>\n",
       "      <td>0.94</td>\n",
       "      <td>3.31</td>\n",
       "      <td>970.0</td>\n",
       "      <td>1</td>\n",
       "    </tr>\n",
       "  </tbody>\n",
       "</table>\n",
       "</div>"
      ],
      "text/plain": [
       "   Feature0  Feature1  Feature2  Feature3  Feature4  Feature5  Feature6  Feature7  Feature8  Feature9  Feature10  Feature11  Feature12  Outlier\n",
       "0  13.29     1.97      2.68      16.8      102.0     3.00      3.23      0.31      1.66      6.00      1.07       2.84       1270.0     1      \n",
       "1  14.30     1.92      2.72      20.0      120.0     2.80      3.14      0.33      1.97      6.20      1.07       2.65       1280.0     1      \n",
       "2  13.68     1.83      2.36      17.2      104.0     2.42      2.69      0.42      1.97      3.84      1.23       2.87       990.0      1      \n",
       "3  14.06     2.15      2.61      17.6      121.0     2.60      2.51      0.31      1.25      5.05      1.06       3.58       1295.0     1      \n",
       "4  14.22     1.70      2.30      16.3      118.0     3.20      3.00      0.26      2.03      6.38      0.94       3.31       970.0      1      "
      ]
     },
     "execution_count": 26,
     "metadata": {},
     "output_type": "execute_result"
    }
   ],
   "source": [
    "df_wine = pd.DataFrame()\n",
    "for i in range(len(data['X'][0])):\n",
    "    df_wine['Feature' + str(i)] = [data['X'][j][i] for j in range(len(data['X']))]\n",
    "df_wine['Outlier'] = data['y']\n",
    "df_wine.head()"
   ]
  },
  {
   "cell_type": "code",
   "execution_count": 28,
   "metadata": {
    "ExecuteTime": {
     "end_time": "2020-05-11T07:58:13.434135Z",
     "start_time": "2020-05-11T07:58:13.422140Z"
    }
   },
   "outputs": [
    {
     "data": {
      "text/plain": [
       "0    119\n",
       "1    10 \n",
       "Name: Outlier, dtype: int64"
      ]
     },
     "execution_count": 28,
     "metadata": {},
     "output_type": "execute_result"
    }
   ],
   "source": [
    "df_wine['Outlier'].value_counts()"
   ]
  },
  {
   "cell_type": "markdown",
   "metadata": {},
   "source": [
    "### Real estates dataframe"
   ]
  },
  {
   "cell_type": "markdown",
   "metadata": {},
   "source": [
    "## Univariate analysis: mean +/- k*sd, 1.5IQR rule"
   ]
  },
  {
   "cell_type": "markdown",
   "metadata": {},
   "source": [
    "## Multivariate analysis"
   ]
  },
  {
   "cell_type": "markdown",
   "metadata": {},
   "source": [
    "### Outlier detection using Mahalanobis distance"
   ]
  },
  {
   "cell_type": "markdown",
   "metadata": {
    "ExecuteTime": {
     "end_time": "2020-05-11T08:00:10.415155Z",
     "start_time": "2020-05-11T08:00:10.410625Z"
    }
   },
   "source": [
    "### Local outlier factor"
   ]
  },
  {
   "cell_type": "markdown",
   "metadata": {},
   "source": [
    "### Projection methods: Stahel-Donoho extensions for asymmetrical distributions"
   ]
  },
  {
   "cell_type": "markdown",
   "metadata": {
    "ExecuteTime": {
     "end_time": "2020-05-11T08:00:42.291897Z",
     "start_time": "2020-05-11T08:00:42.287894Z"
    }
   },
   "source": [
    "### Autoencoders"
   ]
  },
  {
   "cell_type": "markdown",
   "metadata": {},
   "source": [
    "### Outliers detection using decession trees"
   ]
  },
  {
   "cell_type": "markdown",
   "metadata": {
    "ExecuteTime": {
     "end_time": "2020-05-11T07:45:23.785657Z",
     "start_time": "2020-05-11T07:45:23.780655Z"
    }
   },
   "source": [
    "## References"
   ]
  },
  {
   "cell_type": "markdown",
   "metadata": {},
   "source": [
    "1. **Wine dataset**: http://odds.cs.stonybrook.edu/wine-dataset/"
   ]
  }
 ],
 "metadata": {
  "kernelspec": {
   "display_name": "Python 3",
   "language": "python",
   "name": "python3"
  },
  "language_info": {
   "codemirror_mode": {
    "name": "ipython",
    "version": 3
   },
   "file_extension": ".py",
   "mimetype": "text/x-python",
   "name": "python",
   "nbconvert_exporter": "python",
   "pygments_lexer": "ipython3",
   "version": "3.7.3"
  },
  "toc": {
   "base_numbering": 1,
   "nav_menu": {},
   "number_sections": false,
   "sideBar": true,
   "skip_h1_title": true,
   "title_cell": "Task 6 - Outliers Detection",
   "title_sidebar": "Contents",
   "toc_cell": true,
   "toc_position": {},
   "toc_section_display": false,
   "toc_window_display": false
  }
 },
 "nbformat": 4,
 "nbformat_minor": 4
}
